{
 "cells": [
  {
   "cell_type": "code",
   "execution_count": 15,
   "metadata": {},
   "outputs": [],
   "source": [
    "import pandas as pd\n",
    "from collections import Counter\n",
    "from sklearn.utils import shuffle\n",
    "import pickle"
   ]
  },
  {
   "cell_type": "code",
   "execution_count": 2,
   "metadata": {},
   "outputs": [],
   "source": [
    "data = pd.read_csv(\"../data/BX-Book-Ratings.csv\",sep=\";\")"
   ]
  },
  {
   "cell_type": "code",
   "execution_count": 3,
   "metadata": {},
   "outputs": [
    {
     "data": {
      "text/html": [
       "<div>\n",
       "<style scoped>\n",
       "    .dataframe tbody tr th:only-of-type {\n",
       "        vertical-align: middle;\n",
       "    }\n",
       "\n",
       "    .dataframe tbody tr th {\n",
       "        vertical-align: top;\n",
       "    }\n",
       "\n",
       "    .dataframe thead th {\n",
       "        text-align: right;\n",
       "    }\n",
       "</style>\n",
       "<table border=\"1\" class=\"dataframe\">\n",
       "  <thead>\n",
       "    <tr style=\"text-align: right;\">\n",
       "      <th></th>\n",
       "      <th>User-ID</th>\n",
       "      <th>ISBN</th>\n",
       "      <th>Book-Rating</th>\n",
       "    </tr>\n",
       "  </thead>\n",
       "  <tbody>\n",
       "    <tr>\n",
       "      <th>0</th>\n",
       "      <td>276725</td>\n",
       "      <td>034545104X</td>\n",
       "      <td>0</td>\n",
       "    </tr>\n",
       "    <tr>\n",
       "      <th>1</th>\n",
       "      <td>276726</td>\n",
       "      <td>0155061224</td>\n",
       "      <td>5</td>\n",
       "    </tr>\n",
       "    <tr>\n",
       "      <th>2</th>\n",
       "      <td>276727</td>\n",
       "      <td>0446520802</td>\n",
       "      <td>0</td>\n",
       "    </tr>\n",
       "    <tr>\n",
       "      <th>3</th>\n",
       "      <td>276729</td>\n",
       "      <td>052165615X</td>\n",
       "      <td>3</td>\n",
       "    </tr>\n",
       "    <tr>\n",
       "      <th>4</th>\n",
       "      <td>276729</td>\n",
       "      <td>0521795028</td>\n",
       "      <td>6</td>\n",
       "    </tr>\n",
       "    <tr>\n",
       "      <th>...</th>\n",
       "      <td>...</td>\n",
       "      <td>...</td>\n",
       "      <td>...</td>\n",
       "    </tr>\n",
       "    <tr>\n",
       "      <th>1149775</th>\n",
       "      <td>276704</td>\n",
       "      <td>1563526298</td>\n",
       "      <td>9</td>\n",
       "    </tr>\n",
       "    <tr>\n",
       "      <th>1149776</th>\n",
       "      <td>276706</td>\n",
       "      <td>0679447156</td>\n",
       "      <td>0</td>\n",
       "    </tr>\n",
       "    <tr>\n",
       "      <th>1149777</th>\n",
       "      <td>276709</td>\n",
       "      <td>0515107662</td>\n",
       "      <td>10</td>\n",
       "    </tr>\n",
       "    <tr>\n",
       "      <th>1149778</th>\n",
       "      <td>276721</td>\n",
       "      <td>0590442449</td>\n",
       "      <td>10</td>\n",
       "    </tr>\n",
       "    <tr>\n",
       "      <th>1149779</th>\n",
       "      <td>276723</td>\n",
       "      <td>05162443314</td>\n",
       "      <td>8</td>\n",
       "    </tr>\n",
       "  </tbody>\n",
       "</table>\n",
       "<p>1149780 rows × 3 columns</p>\n",
       "</div>"
      ],
      "text/plain": [
       "         User-ID         ISBN  Book-Rating\n",
       "0         276725   034545104X            0\n",
       "1         276726   0155061224            5\n",
       "2         276727   0446520802            0\n",
       "3         276729   052165615X            3\n",
       "4         276729   0521795028            6\n",
       "...          ...          ...          ...\n",
       "1149775   276704   1563526298            9\n",
       "1149776   276706   0679447156            0\n",
       "1149777   276709   0515107662           10\n",
       "1149778   276721   0590442449           10\n",
       "1149779   276723  05162443314            8\n",
       "\n",
       "[1149780 rows x 3 columns]"
      ]
     },
     "execution_count": 3,
     "metadata": {},
     "output_type": "execute_result"
    }
   ],
   "source": [
    "data"
   ]
  },
  {
   "cell_type": "code",
   "execution_count": 4,
   "metadata": {},
   "outputs": [
    {
     "data": {
      "text/plain": [
       "count    1.149780e+06\n",
       "mean     1.403864e+05\n",
       "std      8.056228e+04\n",
       "min      2.000000e+00\n",
       "25%      7.034500e+04\n",
       "50%      1.410100e+05\n",
       "75%      2.110280e+05\n",
       "max      2.788540e+05\n",
       "Name: User-ID, dtype: float64"
      ]
     },
     "execution_count": 4,
     "metadata": {},
     "output_type": "execute_result"
    }
   ],
   "source": [
    "data[\"User-ID\"].describe()"
   ]
  },
  {
   "cell_type": "code",
   "execution_count": 3,
   "metadata": {},
   "outputs": [],
   "source": [
    "def get_unique_idx(unique_values):\n",
    "    unique_idx={}\n",
    "    count=0\n",
    "    for v in unique_values:\n",
    "        unique_idx[v]=count\n",
    "        count+=1\n",
    "    return unique_idx"
   ]
  },
  {
   "cell_type": "code",
   "execution_count": 6,
   "metadata": {},
   "outputs": [],
   "source": [
    "unique_user_ids = set(data[\"User-ID\"].values)\n",
    "unique_isbn = set(data[\"ISBN\"].values)"
   ]
  },
  {
   "cell_type": "code",
   "execution_count": 7,
   "metadata": {},
   "outputs": [
    {
     "name": "stdout",
     "output_type": "stream",
     "text": [
      "Number of users 105283\n",
      "Number of books 340556\n"
     ]
    }
   ],
   "source": [
    "print(\"Number of users\", len(unique_user_ids))\n",
    "print(\"Number of books\", len(unique_isbn))"
   ]
  },
  {
   "cell_type": "code",
   "execution_count": 8,
   "metadata": {},
   "outputs": [],
   "source": [
    "unique_user_idx = get_unique_idx(unique_user_ids)\n",
    "unique_isbn_idx = get_unique_idx(unique_isbn)"
   ]
  },
  {
   "cell_type": "code",
   "execution_count": 9,
   "metadata": {},
   "outputs": [],
   "source": [
    "data['user_idx'] = data[\"User-ID\"].apply(lambda x: unique_user_idx[x])\n",
    "data['isbn_idx'] = data[\"ISBN\"].apply(lambda x: unique_isbn_idx[x])"
   ]
  },
  {
   "cell_type": "code",
   "execution_count": 10,
   "metadata": {},
   "outputs": [],
   "source": [
    "data.to_csv(\"../data/processed_rating.csv\")"
   ]
  },
  {
   "cell_type": "code",
   "execution_count": 11,
   "metadata": {},
   "outputs": [],
   "source": [
    "U = data.user_idx.max()+1\n",
    "B = data.isbn_idx.max()+1"
   ]
  },
  {
   "cell_type": "code",
   "execution_count": 12,
   "metadata": {},
   "outputs": [],
   "source": []
  },
  {
   "cell_type": "code",
   "execution_count": 13,
   "metadata": {},
   "outputs": [],
   "source": [
    "user_count = Counter(data.user_idx)\n",
    "isbn_count = Counter(data.isbn_idx)"
   ]
  },
  {
   "cell_type": "code",
   "execution_count": 14,
   "metadata": {},
   "outputs": [],
   "source": [
    "# Now we will take 100000 user and 100000 books\n",
    "u = 100000\n",
    "b = 100000\n",
    "\n",
    "\n",
    "# https://stackoverflow.com/questions/3594514/how-to-find-most-common-elements-of-a-list\n",
    "\n",
    "user_ids = [u for u, c in user_count.most_common(u)]\n",
    "book_ids = [b for b, c in isbn_count.most_common(b)]\n",
    "\n",
    "data_updated = data[data[\"user_idx\"].isin(user_ids) & data[\"isbn_idx\"].isin(book_ids)].copy()"
   ]
  },
  {
   "cell_type": "code",
   "execution_count": 15,
   "metadata": {},
   "outputs": [],
   "source": [
    "unique_user_idx = get_unique_idx(user_ids)\n",
    "unique_isbn_idx = get_unique_idx(book_ids)\n",
    "\n",
    "data_updated['user_idx'] = data_updated[\"user_idx\"].apply(lambda x: unique_user_idx[x])\n",
    "data_updated['isbn_idx'] = data_updated[\"isbn_idx\"].apply(lambda x: unique_isbn_idx[x])"
   ]
  },
  {
   "cell_type": "code",
   "execution_count": 16,
   "metadata": {},
   "outputs": [
    {
     "name": "stdout",
     "output_type": "stream",
     "text": [
      "max user_id 99999\n",
      "max isbn_id 99999\n"
     ]
    }
   ],
   "source": [
    "print(\"max user_id\",data_updated[\"user_idx\"].max())\n",
    "print(\"max isbn_id\",data_updated[\"isbn_idx\"].max())"
   ]
  },
  {
   "cell_type": "code",
   "execution_count": 17,
   "metadata": {},
   "outputs": [],
   "source": [
    "data_updated.to_csv(\"../data/ratings_100000.csv\")"
   ]
  },
  {
   "cell_type": "code",
   "execution_count": 18,
   "metadata": {},
   "outputs": [],
   "source": [
    "data_updated = pd.read_csv(\"../data/ratings_100000.csv\")"
   ]
  },
  {
   "cell_type": "code",
   "execution_count": 19,
   "metadata": {},
   "outputs": [],
   "source": [
    "U = data_updated.user_idx.max()+1\n",
    "B = data_updated.isbn_idx.max()+1"
   ]
  },
  {
   "cell_type": "code",
   "execution_count": 20,
   "metadata": {},
   "outputs": [],
   "source": [
    "data_updated = shuffle(data_updated)"
   ]
  },
  {
   "cell_type": "code",
   "execution_count": 21,
   "metadata": {},
   "outputs": [],
   "source": [
    "cut_off = int(0.8*len(data_updated))"
   ]
  },
  {
   "cell_type": "code",
   "execution_count": 22,
   "metadata": {},
   "outputs": [],
   "source": [
    "df_train = data_updated.iloc[:cut_off]\n",
    "df_test = data_updated.iloc[cut_off:]"
   ]
  },
  {
   "cell_type": "code",
   "execution_count": 23,
   "metadata": {},
   "outputs": [
    {
     "data": {
      "text/plain": [
       "568769    None\n",
       "380149    None\n",
       "681335    None\n",
       "712788    None\n",
       "848619    None\n",
       "          ... \n",
       "174843    None\n",
       "288926    None\n",
       "722942    None\n",
       "317334    None\n",
       "162734    None\n",
       "Length: 689408, dtype: object"
      ]
     },
     "execution_count": 23,
     "metadata": {},
     "output_type": "execute_result"
    }
   ],
   "source": [
    "user_2_book = {}\n",
    "book_2_user = {}\n",
    "user_book_rating ={}\n",
    "\n",
    "def populate_mapping_train(row):\n",
    "    u = int(row.user_idx)\n",
    "    b = int(row.isbn_idx)\n",
    "    \n",
    "    if u not in user_2_book:\n",
    "        user_2_book[u] = [b]\n",
    "    else:\n",
    "        user_2_book[u].append(b)\n",
    "        \n",
    "    if b not in book_2_user:\n",
    "        book_2_user[b] = [u]\n",
    "    else:\n",
    "        book_2_user[b].append(u)\n",
    "        \n",
    "    user_book_rating[(u,b)] = row[\"Book-Rating\"]\n",
    "        \n",
    "df_train.apply(populate_mapping_train,axis=1)  "
   ]
  },
  {
   "cell_type": "code",
   "execution_count": 24,
   "metadata": {},
   "outputs": [
    {
     "data": {
      "text/plain": [
       "605378    None\n",
       "761742    None\n",
       "277191    None\n",
       "292198    None\n",
       "848945    None\n",
       "          ... \n",
       "244476    None\n",
       "698964    None\n",
       "69263     None\n",
       "608230    None\n",
       "791326    None\n",
       "Length: 172352, dtype: object"
      ]
     },
     "execution_count": 24,
     "metadata": {},
     "output_type": "execute_result"
    }
   ],
   "source": [
    "user_book_rating_test={}\n",
    "def populate_mapping_test(row):\n",
    "    u = int(row.user_idx)\n",
    "    b = int(row.isbn_idx)\n",
    "    \n",
    "    user_book_rating_test[(u,b)] = row[\"Book-Rating\"]\n",
    "\n",
    "df_test.apply(populate_mapping_test,axis=1)  "
   ]
  },
  {
   "cell_type": "code",
   "execution_count": 25,
   "metadata": {},
   "outputs": [
    {
     "data": {
      "text/plain": [
       "[14417, 602, 443, 280, 424]"
      ]
     },
     "execution_count": 25,
     "metadata": {},
     "output_type": "execute_result"
    }
   ],
   "source": [
    "user_2_book[17383]"
   ]
  },
  {
   "cell_type": "code",
   "execution_count": 26,
   "metadata": {},
   "outputs": [],
   "source": [
    "def save_obj(obj, name ):\n",
    "    with open(name + '.pkl', 'wb') as f:\n",
    "        pickle.dump(obj, f, pickle.HIGHEST_PROTOCOL)"
   ]
  },
  {
   "cell_type": "code",
   "execution_count": 27,
   "metadata": {},
   "outputs": [],
   "source": [
    "save_obj(user_2_book,\"../data/user_2_book\")\n",
    "save_obj(book_2_user,\"../data/book_2_user\")\n",
    "save_obj(user_book_rating,\"../data/user_book_rating\")\n",
    "save_obj(user_book_rating_test,\"../data/user_book_rating_test\")\n"
   ]
  },
  {
   "cell_type": "code",
   "execution_count": null,
   "metadata": {},
   "outputs": [],
   "source": []
  }
 ],
 "metadata": {
  "kernelspec": {
   "display_name": "Python 3",
   "language": "python",
   "name": "python3"
  }
 },
 "nbformat": 4,
 "nbformat_minor": 2
}
